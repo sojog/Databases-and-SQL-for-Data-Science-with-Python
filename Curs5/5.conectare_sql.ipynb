{
 "cells": [
  {
   "cell_type": "code",
   "execution_count": null,
   "id": "b59422b4",
   "metadata": {},
   "outputs": [],
   "source": [
    "import mysql.connector"
   ]
  },
  {
   "cell_type": "code",
   "execution_count": null,
   "id": "9006c921",
   "metadata": {},
   "outputs": [],
   "source": [
    "cnx = mysql.connector.connect(\n",
    "    host=\"127.0.0.1\",\n",
    "    port=3306,\n",
    "    user=\"root\",\n",
    "    password=\"root1234\")"
   ]
  },
  {
   "cell_type": "code",
   "execution_count": null,
   "id": "8d170aac",
   "metadata": {},
   "outputs": [],
   "source": [
    "cur = cnx.cursor()"
   ]
  },
  {
   "cell_type": "code",
   "execution_count": null,
   "id": "e8afa059",
   "metadata": {},
   "outputs": [],
   "source": [
    "cur.execute('SHOW DATABASES')"
   ]
  },
  {
   "cell_type": "code",
   "execution_count": null,
   "id": "735c22f4",
   "metadata": {},
   "outputs": [],
   "source": [
    "for db in cur:\n",
    "    print(db)"
   ]
  },
  {
   "cell_type": "code",
   "execution_count": null,
   "id": "37d68a64",
   "metadata": {},
   "outputs": [],
   "source": [
    "cur.execute('USE universitate')"
   ]
  },
  {
   "cell_type": "code",
   "execution_count": null,
   "id": "5eb16b3e",
   "metadata": {},
   "outputs": [],
   "source": [
    "cur.execute('INSERT INTO profesor SET nume=\"Guido\",    prenume=\"Van Rossum\", data_nasterii=\"1956-01-31\", adresa=1 ')"
   ]
  },
  {
   "cell_type": "code",
   "execution_count": null,
   "id": "f00b9967",
   "metadata": {},
   "outputs": [],
   "source": [
    "cur.execute('SELECT * FROM profesor')\n",
    "for prof in cur:\n",
    "    print(prof)"
   ]
  },
  {
   "cell_type": "code",
   "execution_count": null,
   "id": "3fe10cd6",
   "metadata": {},
   "outputs": [],
   "source": [
    "cnx.commit()"
   ]
  }
 ],
 "metadata": {
  "kernelspec": {
   "display_name": "Python 3",
   "language": "python",
   "name": "python3"
  },
  "language_info": {
   "codemirror_mode": {
    "name": "ipython",
    "version": 3
   },
   "file_extension": ".py",
   "mimetype": "text/x-python",
   "name": "python",
   "nbconvert_exporter": "python",
   "pygments_lexer": "ipython3",
   "version": "3.12.0"
  }
 },
 "nbformat": 4,
 "nbformat_minor": 5
}
